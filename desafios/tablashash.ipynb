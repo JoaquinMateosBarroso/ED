{
 "cells": [
  {
   "cell_type": "code",
   "execution_count": 29,
   "metadata": {},
   "outputs": [],
   "source": [
    "secuencia = [95, 5, 20, 0, 9]"
   ]
  },
  {
   "cell_type": "code",
   "execution_count": 30,
   "metadata": {},
   "outputs": [],
   "source": [
    "def generar_h(a, b, p):\n",
    "    return lambda x: ((a*x + b)%p)%10"
   ]
  },
  {
   "cell_type": "code",
   "execution_count": 33,
   "metadata": {},
   "outputs": [],
   "source": [
    "h1 = generar_h(3, 1, 101)\n",
    "h2 = generar_h(1, 3, 101)\n",
    "h3 = generar_h(3, 1, 101)"
   ]
  },
  {
   "cell_type": "code",
   "execution_count": 34,
   "metadata": {},
   "outputs": [
    {
     "name": "stdout",
     "output_type": "stream",
     "text": [
      "4: 95\n",
      "6: 5\n",
      "1: 20\n",
      "1: 0\n",
      "8: 9\n"
     ]
    }
   ],
   "source": [
    "# secuencia.sort(key = lambda x: h1(x))\n",
    "for i in secuencia:\n",
    "    print(f\"{h1(i)}: {i}\")"
   ]
  },
  {
   "cell_type": "code",
   "execution_count": 36,
   "metadata": {},
   "outputs": [
    {
     "name": "stdout",
     "output_type": "stream",
     "text": [
      "0: 33\n",
      "3: 0\n"
     ]
    }
   ],
   "source": [
    "print(f\"{h1(33)}: {33}\")\n",
    "print(f\"{h2(0)}: {0}\")"
   ]
  },
  {
   "cell_type": "code",
   "execution_count": null,
   "metadata": {},
   "outputs": [],
   "source": []
  }
 ],
 "metadata": {
  "kernelspec": {
   "display_name": "Python 3",
   "language": "python",
   "name": "python3"
  },
  "language_info": {
   "codemirror_mode": {
    "name": "ipython",
    "version": 3
   },
   "file_extension": ".py",
   "mimetype": "text/x-python",
   "name": "python",
   "nbconvert_exporter": "python",
   "pygments_lexer": "ipython3",
   "version": "3.10.6"
  },
  "orig_nbformat": 4
 },
 "nbformat": 4,
 "nbformat_minor": 2
}
